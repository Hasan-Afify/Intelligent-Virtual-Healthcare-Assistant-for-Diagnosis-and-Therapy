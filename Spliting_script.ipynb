{
  "cells": [
    {
      "cell_type": "markdown",
      "metadata": {
        "id": "Rl7f-ODvSgpv"
      },
      "source": [
        "## **Importing libraries**"
      ]
    },
    {
      "cell_type": "code",
      "execution_count": null,
      "metadata": {
        "colab": {
          "base_uri": "https://localhost:8080/"
        },
        "id": "9LEP12mXHVgq",
        "outputId": "8851e03c-f79e-4452-a426-e3656efa51fa"
      },
      "outputs": [
        {
          "name": "stdout",
          "output_type": "stream",
          "text": [
            "Found 658 images belonging to 4 classes.\n",
            "Found 176 images belonging to 4 classes.\n",
            "Found 4 classes belonging to {'Nail Fungus': 0, 'Normal': 1, 'Tinea Ringworm': 2, 'Warts Molluscum': 3}\n"
          ]
        },
        {
          "name": "stderr",
          "output_type": "stream",
          "text": [
            "c:\\Users\\Hasan\\AppData\\Local\\Programs\\Python\\Python312\\Lib\\site-packages\\keras\\src\\layers\\convolutional\\base_conv.py:107: UserWarning: Do not pass an `input_shape`/`input_dim` argument to a layer. When using Sequential models, prefer using an `Input(shape)` object as the first layer in the model instead.\n",
            "  super().__init__(activity_regularizer=activity_regularizer, **kwargs)\n",
            "c:\\Users\\Hasan\\AppData\\Local\\Programs\\Python\\Python312\\Lib\\site-packages\\keras\\src\\trainers\\data_adapters\\py_dataset_adapter.py:121: UserWarning: Your `PyDataset` class should call `super().__init__(**kwargs)` in its constructor. `**kwargs` can include `workers`, `use_multiprocessing`, `max_queue_size`. Do not pass these arguments to `fit()`, as they will be ignored.\n",
            "  self._warn_if_super_not_called()\n"
          ]
        },
        {
          "name": "stdout",
          "output_type": "stream",
          "text": [
            "Epoch 1/20\n",
            "\u001b[1m21/21\u001b[0m \u001b[32m━━━━━━━━━━━━━━━━━━━━\u001b[0m\u001b[37m\u001b[0m \u001b[1m0s\u001b[0m 766ms/step - accuracy: 0.3395 - loss: 2.0219"
          ]
        },
        {
          "name": "stderr",
          "output_type": "stream",
          "text": [
            "c:\\Users\\Hasan\\AppData\\Local\\Programs\\Python\\Python312\\Lib\\site-packages\\keras\\src\\trainers\\data_adapters\\py_dataset_adapter.py:121: UserWarning: Your `PyDataset` class should call `super().__init__(**kwargs)` in its constructor. `**kwargs` can include `workers`, `use_multiprocessing`, `max_queue_size`. Do not pass these arguments to `fit()`, as they will be ignored.\n",
            "  self._warn_if_super_not_called()\n"
          ]
        },
        {
          "name": "stdout",
          "output_type": "stream",
          "text": [
            "\u001b[1m21/21\u001b[0m \u001b[32m━━━━━━━━━━━━━━━━━━━━\u001b[0m\u001b[37m\u001b[0m \u001b[1m20s\u001b[0m 923ms/step - accuracy: 0.3445 - loss: 1.9933 - val_accuracy: 0.6989 - val_loss: 0.8766\n",
            "Epoch 2/20\n",
            "\u001b[1m21/21\u001b[0m \u001b[32m━━━━━━━━━━━━━━━━━━━━\u001b[0m\u001b[37m\u001b[0m \u001b[1m11s\u001b[0m 524ms/step - accuracy: 0.6849 - loss: 0.7577 - val_accuracy: 0.6818 - val_loss: 0.7338\n",
            "Epoch 3/20\n",
            "\u001b[1m21/21\u001b[0m \u001b[32m━━━━━━━━━━━━━━━━━━━━\u001b[0m\u001b[37m\u001b[0m \u001b[1m11s\u001b[0m 521ms/step - accuracy: 0.6717 - loss: 0.7119 - val_accuracy: 0.6761 - val_loss: 0.6863\n",
            "Epoch 4/20\n",
            "\u001b[1m21/21\u001b[0m \u001b[32m━━━━━━━━━━━━━━━━━━━━\u001b[0m\u001b[37m\u001b[0m \u001b[1m18s\u001b[0m 889ms/step - accuracy: 0.7155 - loss: 0.6458 - val_accuracy: 0.7500 - val_loss: 0.6110\n",
            "Epoch 5/20\n",
            "\u001b[1m21/21\u001b[0m \u001b[32m━━━━━━━━━━━━━━━━━━━━\u001b[0m\u001b[37m\u001b[0m \u001b[1m26s\u001b[0m 1s/step - accuracy: 0.6969 - loss: 0.6503 - val_accuracy: 0.7216 - val_loss: 0.6443\n",
            "Epoch 6/20\n",
            "\u001b[1m21/21\u001b[0m \u001b[32m━━━━━━━━━━━━━━━━━━━━\u001b[0m\u001b[37m\u001b[0m \u001b[1m18s\u001b[0m 835ms/step - accuracy: 0.6978 - loss: 0.6511 - val_accuracy: 0.7443 - val_loss: 0.5738\n",
            "Epoch 7/20\n",
            "\u001b[1m21/21\u001b[0m \u001b[32m━━━━━━━━━━━━━━━━━━━━\u001b[0m\u001b[37m\u001b[0m \u001b[1m11s\u001b[0m 530ms/step - accuracy: 0.6905 - loss: 0.6039 - val_accuracy: 0.7614 - val_loss: 0.5735\n",
            "Epoch 8/20\n",
            "\u001b[1m21/21\u001b[0m \u001b[32m━━━━━━━━━━━━━━━━━━━━\u001b[0m\u001b[37m\u001b[0m \u001b[1m11s\u001b[0m 542ms/step - accuracy: 0.7434 - loss: 0.5995 - val_accuracy: 0.8011 - val_loss: 0.4742\n",
            "Epoch 9/20\n",
            "\u001b[1m21/21\u001b[0m \u001b[32m━━━━━━━━━━━━━━━━━━━━\u001b[0m\u001b[37m\u001b[0m \u001b[1m11s\u001b[0m 522ms/step - accuracy: 0.7489 - loss: 0.5547 - val_accuracy: 0.7670 - val_loss: 0.5202\n",
            "Epoch 10/20\n",
            "\u001b[1m21/21\u001b[0m \u001b[32m━━━━━━━━━━━━━━━━━━━━\u001b[0m\u001b[37m\u001b[0m \u001b[1m11s\u001b[0m 525ms/step - accuracy: 0.7162 - loss: 0.5537 - val_accuracy: 0.8011 - val_loss: 0.4848\n",
            "Epoch 11/20\n",
            "\u001b[1m21/21\u001b[0m \u001b[32m━━━━━━━━━━━━━━━━━━━━\u001b[0m\u001b[37m\u001b[0m \u001b[1m11s\u001b[0m 538ms/step - accuracy: 0.7286 - loss: 0.5646 - val_accuracy: 0.7784 - val_loss: 0.5050\n",
            "Epoch 12/20\n",
            "\u001b[1m21/21\u001b[0m \u001b[32m━━━━━━━━━━━━━━━━━━━━\u001b[0m\u001b[37m\u001b[0m \u001b[1m11s\u001b[0m 521ms/step - accuracy: 0.7147 - loss: 0.5777 - val_accuracy: 0.7898 - val_loss: 0.4541\n",
            "Epoch 13/20\n",
            "\u001b[1m21/21\u001b[0m \u001b[32m━━━━━━━━━━━━━━━━━━━━\u001b[0m\u001b[37m\u001b[0m \u001b[1m11s\u001b[0m 518ms/step - accuracy: 0.7808 - loss: 0.5062 - val_accuracy: 0.8068 - val_loss: 0.4459\n",
            "Epoch 14/20\n",
            "\u001b[1m21/21\u001b[0m \u001b[32m━━━━━━━━━━━━━━━━━━━━\u001b[0m\u001b[37m\u001b[0m \u001b[1m11s\u001b[0m 516ms/step - accuracy: 0.7612 - loss: 0.5105 - val_accuracy: 0.8125 - val_loss: 0.4503\n",
            "Epoch 15/20\n",
            "\u001b[1m21/21\u001b[0m \u001b[32m━━━━━━━━━━━━━━━━━━━━\u001b[0m\u001b[37m\u001b[0m \u001b[1m11s\u001b[0m 516ms/step - accuracy: 0.7592 - loss: 0.5383 - val_accuracy: 0.7898 - val_loss: 0.4666\n",
            "Epoch 16/20\n",
            "\u001b[1m21/21\u001b[0m \u001b[32m━━━━━━━━━━━━━━━━━━━━\u001b[0m\u001b[37m\u001b[0m \u001b[1m11s\u001b[0m 514ms/step - accuracy: 0.7289 - loss: 0.6146 - val_accuracy: 0.8068 - val_loss: 0.4383\n",
            "Epoch 17/20\n",
            "\u001b[1m21/21\u001b[0m \u001b[32m━━━━━━━━━━━━━━━━━━━━\u001b[0m\u001b[37m\u001b[0m \u001b[1m11s\u001b[0m 528ms/step - accuracy: 0.7607 - loss: 0.5133 - val_accuracy: 0.8011 - val_loss: 0.5314\n",
            "Epoch 18/20\n",
            "\u001b[1m21/21\u001b[0m \u001b[32m━━━━━━━━━━━━━━━━━━━━\u001b[0m\u001b[37m\u001b[0m \u001b[1m11s\u001b[0m 526ms/step - accuracy: 0.7572 - loss: 0.5686 - val_accuracy: 0.7784 - val_loss: 0.4483\n",
            "Epoch 19/20\n",
            "\u001b[1m21/21\u001b[0m \u001b[32m━━━━━━━━━━━━━━━━━━━━\u001b[0m\u001b[37m\u001b[0m \u001b[1m11s\u001b[0m 523ms/step - accuracy: 0.7309 - loss: 0.5426 - val_accuracy: 0.7386 - val_loss: 0.4735\n",
            "Epoch 20/20\n",
            "\u001b[1m21/21\u001b[0m \u001b[32m━━━━━━━━━━━━━━━━━━━━\u001b[0m\u001b[37m\u001b[0m \u001b[1m11s\u001b[0m 506ms/step - accuracy: 0.7472 - loss: 0.5066 - val_accuracy: 0.8011 - val_loss: 0.4721\n",
            "\u001b[1m6/6\u001b[0m \u001b[32m━━━━━━━━━━━━━━━━━━━━\u001b[0m\u001b[37m\u001b[0m \u001b[1m1s\u001b[0m 124ms/step - accuracy: 0.7885 - loss: 0.4738\n"
          ]
        },
        {
          "name": "stderr",
          "output_type": "stream",
          "text": [
            "WARNING:absl:You are saving your model as an HDF5 file via `model.save()` or `keras.saving.save_model(model)`. This file format is considered legacy. We recommend using instead the native Keras format, e.g. `model.save('my_model.keras')` or `keras.saving.save_model(model, 'my_model.keras')`. \n"
          ]
        },
        {
          "name": "stdout",
          "output_type": "stream",
          "text": [
            "Test Accuracy: 80.11%\n"
          ]
        }
      ],
      "source": [
        "import tensorflow as tf\n",
        "from tensorflow.keras.models import Sequential\n",
        "from tensorflow.keras.layers import Conv2D, MaxPooling2D, Flatten, Dense, Dropout\n",
        "from tensorflow.keras.preprocessing.image import ImageDataGenerator\n",
        "import numpy as np\n",
        "\n",
        "# إعداد مسارات الداتا (غير المسارات حسب مكان الداتا عندك)\n",
        "train_dir = 'C:/Users/Hasan/Desktop/IMAGES WITHOUT WATER MARK/Data/Train'  # مجلد الداتا التدريبية\n",
        "test_dir = 'C:/Users/Hasan/Desktop/IMAGES WITHOUT WATER MARK/Data/Test'    # مجلد الداتا الاختبارية\n",
        "\n",
        "# إعداد ImageDataGenerator لتحميل الصور وتطبيق بعض الـ Data Augmentation\n",
        "train_datagen = ImageDataGenerator(\n",
        "    rescale=1./255,           # تطبيع الصور\n",
        "    rotation_range=20,        # تدوير الصور\n",
        "    width_shift_range=0.2,    # إزاحة أفقية\n",
        "    height_shift_range=0.2,   # إزاحة رأسية\n",
        "    shear_range=0.2,          # القص\n",
        "    zoom_range=0.2,           # التكبير\n",
        "    horizontal_flip=True,     # الانعكاس الأفقي\n",
        "    fill_mode='nearest'\n",
        ")\n",
        "\n",
        "test_datagen = ImageDataGenerator(rescale=1./255)  # تطبيع الصور فقط للاختبار\n",
        "\n",
        "# تحميل الصور من المجلدات\n",
        "train_generator = train_datagen.flow_from_directory(\n",
        "    train_dir,\n",
        "    target_size=(224, 224),  # حجم الصور\n",
        "    batch_size=32,\n",
        "    class_mode='categorical' # تصنيف متعدد الفئات\n",
        ")\n",
        "\n",
        "test_generator = test_datagen.flow_from_directory(\n",
        "    test_dir,\n",
        "    target_size=(224, 224),\n",
        "    batch_size=32,\n",
        "    class_mode='categorical'\n",
        ")\n",
        "\n",
        "# بناء نموذج CNN\n",
        "model = Sequential([\n",
        "    Conv2D(32, (3, 3), activation='relu', input_shape=(224, 224, 3)),\n",
        "    MaxPooling2D(2, 2),\n",
        "    Conv2D(64, (3, 3), activation='relu'),\n",
        "    MaxPooling2D(2, 2),\n",
        "    Conv2D(128, (3, 3), activation='relu'),\n",
        "    MaxPooling2D(2, 2),\n",
        "    Flatten(),\n",
        "    Dense(512, activation='relu'),\n",
        "    Dropout(0.5),  # لتقليل الـ Overfitting\n",
        "    Dense(4, activation='softmax')  # 4 فئات (3 أمراض + Normal)\n",
        "])\n",
        "\n",
        "# تجميع النموذج\n",
        "model.compile(\n",
        "    optimizer='adam',\n",
        "    loss='categorical_crossentropy',\n",
        "    metrics=['accuracy']\n",
        ")\n",
        "\n",
        "print(\"Found\", train_generator.num_classes, \"classes belonging to\", train_generator.class_indices)\n",
        "\n",
        "# تدريب النموذج\n",
        "history = model.fit(\n",
        "    train_generator,\n",
        "    epochs=20,  # ممكن تغير العدد حسب الحاجة\n",
        "    validation_data=test_generator\n",
        ")\n",
        "\n",
        "# تقييم النموذج\n",
        "test_loss, test_accuracy = model.evaluate(test_generator)\n",
        "print(f\"Test Accuracy: {test_accuracy*100:.2f}%\")\n",
        "\n",
        "# حفظ النموذج\n",
        "model.save('skin_disease_model.h5')"
      ]
    }
  ],
  "metadata": {
    "accelerator": "GPU",
    "colab": {
      "collapsed_sections": [
        "a53_p7cjSeUI",
        "Rl7f-ODvSgpv",
        "VkqeB1_1SkM8",
        "FI5WMLUwVI7k",
        "ZeD-WVQlYFEi",
        "MXDS2rQscogb"
      ],
      "gpuType": "T4",
      "provenance": []
    },
    "kernelspec": {
      "display_name": "Python 3",
      "language": "python",
      "name": "python3"
    },
    "language_info": {
      "codemirror_mode": {
        "name": "ipython",
        "version": 3
      },
      "file_extension": ".py",
      "mimetype": "text/x-python",
      "name": "python",
      "nbconvert_exporter": "python",
      "pygments_lexer": "ipython3",
      "version": "3.12.0"
    }
  },
  "nbformat": 4,
  "nbformat_minor": 0
}
